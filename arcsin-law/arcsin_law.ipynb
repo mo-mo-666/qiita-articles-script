{
  "nbformat": 4,
  "nbformat_minor": 0,
  "metadata": {
    "colab": {
      "name": "arcsin-law.ipynb",
      "version": "0.3.2",
      "provenance": [],
      "collapsed_sections": [],
      "include_colab_link": true
    },
    "kernelspec": {
      "name": "python3",
      "display_name": "Python 3"
    }
  },
  "cells": [
    {
      "cell_type": "markdown",
      "metadata": {
        "id": "view-in-github",
        "colab_type": "text"
      },
      "source": [
        "<a href=\"https://colab.research.google.com/github/mo-mo-666/qiita-articles-script/blob/master/arcsin-law/arcsin_law.ipynb\" target=\"_parent\"><img src=\"https://colab.research.google.com/assets/colab-badge.svg\" alt=\"Open In Colab\"/></a>"
      ]
    },
    {
      "metadata": {
        "id": "ogC_7M0FtOb5",
        "colab_type": "text"
      },
      "cell_type": "markdown",
      "source": [
        "# タイトル"
      ]
    },
    {
      "metadata": {
        "id": "4MYW-BkDpxlp",
        "colab_type": "code",
        "colab": {}
      },
      "cell_type": "code",
      "source": [
        "import numpy as np\n",
        "import matplotlib\n",
        "import matplotlib.pyplot as plt"
      ],
      "execution_count": 0,
      "outputs": []
    },
    {
      "metadata": {
        "id": "GlIwfBa7t0yJ",
        "colab_type": "code",
        "colab": {}
      },
      "cell_type": "code",
      "source": [
        "def brownian_motion(length):\n",
        "    diff = np.random.randn(length)\n",
        "    diff[0] = 0\n",
        "    bm = np.cumsum(diff)\n",
        "    return bm"
      ],
      "execution_count": 0,
      "outputs": []
    },
    {
      "metadata": {
        "id": "hGOTT7bJuVsl",
        "colab_type": "code",
        "colab": {
          "base_uri": "https://localhost:8080/",
          "height": 269
        },
        "outputId": "d345572a-e08b-4a2d-9fa5-b118ab936721"
      },
      "cell_type": "code",
      "source": [
        "bm = brownian_motion(1000)\n",
        "plt.plot(bm)\n",
        "plt.show()"
      ],
      "execution_count": 6,
      "outputs": [
        {
          "output_type": "display_data",
          "data": {
            "image/png": "[encoded data removed]",
            "text/plain": [
              "<Figure size 432x288 with 1 Axes>"
            ]
          },
          "metadata": {
            "tags": []
          }
        }
      ]
    },
    {
      "metadata": {
        "id": "BF6Ji3bDueI6",
        "colab_type": "code",
        "colab": {
          "base_uri": "https://localhost:8080/",
          "height": 34
        },
        "outputId": "bdadcee7-2fe7-49f8-bba4-bcc076403163"
      },
      "cell_type": "code",
      "source": [
        "np.sum(bm)"
      ],
      "execution_count": 9,
      "outputs": [
        {
          "output_type": "execute_result",
          "data": {
            "text/plain": [
              "7730.533651990332"
            ]
          },
          "metadata": {
            "tags": []
          },
          "execution_count": 9
        }
      ]
    },
    {
      "metadata": {
        "id": "U3-jBNiavhqo",
        "colab_type": "code",
        "colab": {
          "base_uri": "https://localhost:8080/",
          "height": 269
        },
        "outputId": "35d3276b-ecd0-49ae-f9d5-10fb4656d132"
      },
      "cell_type": "code",
      "source": [
        "l = list()\n",
        "for i in range(1000):\n",
        "    bm = brownian_motion(10000)\n",
        "    l.append(np.sum(bm))\n",
        "plt.hist(l, bins=50)\n",
        "plt.show()"
      ],
      "execution_count": 14,
      "outputs": [
        {
          "output_type": "display_data",
          "data": {
            "image/png": "[encoded data removed]",
            "text/plain": [
              "<Figure size 432x288 with 1 Axes>"
            ]
          },
          "metadata": {
            "tags": []
          }
        }
      ]
    },
    {
      "metadata": {
        "id": "3LCXU_amvws1",
        "colab_type": "code",
        "colab": {}
      },
      "cell_type": "code",
      "source": [
        ""
      ],
      "execution_count": 0,
      "outputs": []
    }
  ]
}